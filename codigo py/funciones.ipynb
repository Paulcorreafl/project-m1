{
 "cells": [
  {
   "cell_type": "code",
   "execution_count": null,
   "id": "25bc7e92-e107-4244-a76f-beb5b1f0ff90",
   "metadata": {},
   "outputs": [],
   "source": [
    "import pandas as pd"
   ]
  },
  {
   "cell_type": "code",
   "execution_count": 36,
   "id": "ad8b8960-bac1-4bff-9576-ed99301ae8cc",
   "metadata": {},
   "outputs": [
    {
     "data": {
      "text/plain": [
       "<function __main__.df_bicim(address, long_start, lat_start)>"
      ]
     },
     "execution_count": 36,
     "metadata": {},
     "output_type": "execute_result"
    }
   ],
   "source": [
    "import pandas as pd\n",
    "df_bicimad= pd.read_csv(\"../data/bicimad_stations.csv\", sep=\"\\t\")\n",
    "def leer_y_filtrar_csv(df_bicimad):\n",
    "    df_bicimad= pd.read_csv(\"../data/bicimad_stations.csv\", sep=\"\\t\")\n",
    "    #df_bicimad= pd.read_csv(\"../data/bicimad_stations.csv\", sep=\"\\t\")\n",
    "    #df_bicim=df_bicimad.DataFrame(columns=[\"address\",\"long_start\",\"lat_start\"])\n",
    "    df_bicim=pd.DataFrame(columns=[\"address\",\"long_start\",\"lat_start\"])\n",
    "    for i in range(len(df_bicimad[\"address\"])):\n",
    "        lugar=df_bicimad[\"address\"][i]\n",
    "        direccion=ast.literal_eval(df_bicimad[\"geometry.coordinates\"][i])   \n",
    "        latitude=direccion[1]\n",
    "        longitude=direccion[0]\n",
    "        df_bicim.loc[i,\"address\"]=lugar\n",
    "        df_bicim.loc[i, \"long_start\"]=longitude\n",
    "        df_bicim.loc[i, \"lat_start\"]=latitude\n",
    "        return df_bicim\n",
    "df_bicim"
   ]
  },
  {
   "cell_type": "code",
   "execution_count": 37,
   "id": "d279f12e-c2d0-4ed3-8c8d-a2e211bedc4c",
   "metadata": {},
   "outputs": [],
   "source": [
    "def leer_y_filtrar_csv(file_path, column_filter, value_filter):\n",
    "    \"\"\"\n",
    "    Lee un archivo CSV, filtra los datos según column_filter y value_filter,\n",
    "    y devuelve un nuevo DataFrame con los resultados.\n",
    "\n",
    "    Parameters:\n",
    "        file_path (str): Ruta del archivo CSV\n",
    "        column_filter (str): Nombre de la columna para filtrar\n",
    "        value_filter (any): Valor para filtrar en la columna especificada\n",
    "\n",
    "    Returns:\n",
    "        pd.DataFrame: Nuevo DataFrame con los datos filtrados\n",
    "    \"\"\"\n",
    "    # Leer archivo CSV\n",
    "    df = pd.read_csv(file_path)\n",
    "\n",
    "    # Filtrar datos\n",
    "    # filtered_df = df[df[column_filter] == value_filter]\n",
    "\n",
    "    return filtered_df"
   ]
  },
  {
   "cell_type": "code",
   "execution_count": 31,
   "id": "1c41a0f5-3165-43af-8e13-dc9c1021c4ae",
   "metadata": {},
   "outputs": [
    {
     "name": "stdout",
     "output_type": "stream",
     "text": [
      "<function df_bici at 0x000002196A5DB420>\n"
     ]
    }
   ],
   "source": [
    "import pandas as pd\n",
    "df_bicimad = pd.read_csv(\"../data/bicimad_stations.csv\", sep=\"\\t\")\n",
    "def df_bici(address,long_start,lat_start):\n",
    "    df_bici=[]\n",
    "    for i in range(len(df_bicimad[\"address\"])):\n",
    "        lugar=df_bicimad[\"address\"][i]\n",
    "        direccion=ast.literal_eval(df_bicimad[\"geometry.coordinates\"][i])   \n",
    "        latitude=direccion[1]\n",
    "        longitude=direccion[0]\n",
    "        df_bici.loc[i,\"address\"]=lugar\n",
    "        df_bici.loc[i, \"long_start\"]=longitude\n",
    "        df_bici.loc[i, \"lat_start\"]=latitude\n",
    "        #print(type(direccion))\n",
    "        return df_bici\n",
    "print(df_bici)"
   ]
  },
  {
   "cell_type": "code",
   "execution_count": null,
   "id": "2001f4af-72ff-4666-92a9-472f39692372",
   "metadata": {},
   "outputs": [],
   "source": []
  }
 ],
 "metadata": {
  "kernelspec": {
   "display_name": "Python (m1)",
   "language": "python",
   "name": "m1"
  },
  "language_info": {
   "codemirror_mode": {
    "name": "ipython",
    "version": 3
   },
   "file_extension": ".py",
   "mimetype": "text/x-python",
   "name": "python",
   "nbconvert_exporter": "python",
   "pygments_lexer": "ipython3",
   "version": "3.12.5"
  }
 },
 "nbformat": 4,
 "nbformat_minor": 5
}
