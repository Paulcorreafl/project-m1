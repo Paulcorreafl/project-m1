{
 "cells": [
  {
   "cell_type": "code",
   "execution_count": null,
   "id": "565ea5c3-624a-4540-a560-94bf9aed1762",
   "metadata": {},
   "outputs": [],
   "source": [
    "import argparse\n",
    "import ipynb\n",
    "\n",
    "from ipynb.fs.full.funci_aux import acquire,merge_clean,distancia_min,analyze\n",
    "def argument_parser():\n",
    "    parser       = argparse.ArgumentParser(description= 'Closest bicimad to sports centers')\n",
    "    help_message ='You have to introduce two input. Update?: \"Y\" for yes: \"N\" for no: and \"O\" for other. Sport Center (please select \"O\" as first input)'\n",
    "    parser.add_argument('-u', '--update', help='Y/N/O')\n",
    "    parser.add_argument('-c', '--centro', type=int, help='Sports Center')\n",
    "    args = parser.parse_args()\n",
    "    return args\n",
    "if __name__ == '__main__':\n",
    "    if argument_parser().update == 'Y': #Actualiza el csv\n",
    "        df_bicimad,df_deportivo        = acquire()\n",
    "        df_bicim,df_centrosd,df_limpio = merge_clean(df_bicim,df_centrosd)\n",
    "        df_limpio                      = distancia_min(df_limpio)\n",
    "        df_fin                         = analyze(df_final)\n",
    "        save_csv(df_fin)\n",
    "        result                         = df_fin\n",
    "        \n",
    "    elif argument_parser().update == 'N': #No actualiza, carga el csv anterior\n",
    "        result   =  pd.read_csv(\"../csv/direcciones.csv\",sep=';', index=False)\n",
    "      \n",
    "    elif argument_parser().update == 'O': #BiciMad cercano al centro deportivo especificado\n",
    "        df_fin   =  pd.read_csv(\"../csv/direcciones.csv\",sep=';', index=False)\n",
    "        centro   = argument_parser().centro\n",
    "        result   = df_fin.loc[df_fin['centro deportivo'] == centro]\n",
    "    else:\n",
    "        result = 'FATAL ERROR...you need to select the correct method'\n",
    "    print(f'The result is => {result}')\n",
    "    "
   ]
  }
 ],
 "metadata": {
  "kernelspec": {
   "display_name": "Python (m1)",
   "language": "python",
   "name": "m1"
  },
  "language_info": {
   "codemirror_mode": {
    "name": "ipython",
    "version": 3
   },
   "file_extension": ".py",
   "mimetype": "text/x-python",
   "name": "python",
   "nbconvert_exporter": "python",
   "pygments_lexer": "ipython3",
   "version": "3.12.5"
  }
 },
 "nbformat": 4,
 "nbformat_minor": 5
}
