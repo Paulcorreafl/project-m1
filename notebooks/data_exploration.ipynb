{
 "cells": [
  {
   "cell_type": "markdown",
   "id": "585e55ba-693f-4cd5-92dd-6ff80bbe2e08",
   "metadata": {},
   "source": [
    "### Data Exploration"
   ]
  },
  {
   "cell_type": "code",
   "execution_count": null,
   "id": "3500050f-a55a-4206-82c4-a8c17bff0a4a",
   "metadata": {},
   "outputs": [],
   "source": [
    "df_excel = pd.read_excel('./datasets/2024_Accidentalidad.xlsx', sheet_name='Hoja1')\n",
    "df_excel.head()"
   ]
  }
 ],
 "metadata": {
  "kernelspec": {
   "display_name": "Python (m1)",
   "language": "python",
   "name": "m1"
  },
  "language_info": {
   "codemirror_mode": {
    "name": "ipython",
    "version": 3
   },
   "file_extension": ".py",
   "mimetype": "text/x-python",
   "name": "python",
   "nbconvert_exporter": "python",
   "pygments_lexer": "ipython3",
   "version": "3.12.5"
  }
 },
 "nbformat": 4,
 "nbformat_minor": 5
}
